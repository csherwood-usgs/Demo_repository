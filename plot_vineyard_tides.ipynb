{
 "cells": [
  {
   "cell_type": "markdown",
   "id": "5731671a",
   "metadata": {},
   "source": [
    "https://tidesandcurrents.noaa.gov/noaacurrents/Predictions?d=2022-09-15&r=2&tz=LST%2fLDT&u=1&id=ACT1821_1&s=f&i=&t=am%2fpm&threshold=leEq&thresholdvalue="
   ]
  },
  {
   "cell_type": "code",
   "execution_count": 2,
   "id": "e268a8a1",
   "metadata": {},
   "outputs": [
    {
     "name": "stdout",
     "output_type": "stream",
     "text": [
      "['ACT1821_predictionMaxSlack_2022-06-30.csv', 'ACT1821_predictionMaxSlack_2022-07-07.csv', 'ACT1821_predictionMaxSlack_2022-07-14.csv', 'ACT1821_predictionMaxSlack_2022-07-21.csv', 'ACT1821_predictionMaxSlack_2022-07-28.csv', 'ACT1821_predictionMaxSlack_2022-08-04.csv', 'ACT1821_predictionMaxSlack_2022-08-11.csv', 'ACT1821_predictionMaxSlack_2022-08-18.csv', 'ACT1821_predictionMaxSlack_2022-08-25.csv', 'ACT1821_predictionMaxSlack_2022-09-01.csv', 'ACT1821_predictionMaxSlack_2022-09-08.csv', 'ACT1821_predictionMaxSlack_2022-09-15.csv']\n"
     ]
    }
   ],
   "source": [
    "import pandas as pd\n",
    "import glob\n",
    "\n",
    "csv_list = glob.glob(\"ACT*.csv\")\n",
    "print(csv_list)"
   ]
  },
  {
   "cell_type": "code",
   "execution_count": 8,
   "id": "c6df7106",
   "metadata": {},
   "outputs": [
    {
     "name": "stdout",
     "output_type": "stream",
     "text": [
      "ACT1821_predictionMaxSlack_2022-06-30.csv\n",
      "ACT1821_predictionMaxSlack_2022-07-07.csv\n",
      "ACT1821_predictionMaxSlack_2022-07-14.csv\n",
      "ACT1821_predictionMaxSlack_2022-07-21.csv\n",
      "ACT1821_predictionMaxSlack_2022-07-28.csv\n",
      "ACT1821_predictionMaxSlack_2022-08-04.csv\n",
      "ACT1821_predictionMaxSlack_2022-08-11.csv\n",
      "ACT1821_predictionMaxSlack_2022-08-18.csv\n",
      "ACT1821_predictionMaxSlack_2022-08-25.csv\n",
      "ACT1821_predictionMaxSlack_2022-09-01.csv\n",
      "ACT1821_predictionMaxSlack_2022-09-08.csv\n",
      "ACT1821_predictionMaxSlack_2022-09-15.csv\n"
     ]
    },
    {
     "data": {
      "text/html": [
       "<div>\n",
       "<style scoped>\n",
       "    .dataframe tbody tr th:only-of-type {\n",
       "        vertical-align: middle;\n",
       "    }\n",
       "\n",
       "    .dataframe tbody tr th {\n",
       "        vertical-align: top;\n",
       "    }\n",
       "\n",
       "    .dataframe thead th {\n",
       "        text-align: right;\n",
       "    }\n",
       "</style>\n",
       "<table border=\"1\" class=\"dataframe\">\n",
       "  <thead>\n",
       "    <tr style=\"text-align: right;\">\n",
       "      <th></th>\n",
       "      <th>Event</th>\n",
       "      <th>Speed (knots)</th>\n",
       "    </tr>\n",
       "    <tr>\n",
       "      <th>Date_Time (LST/LDT)</th>\n",
       "      <th></th>\n",
       "      <th></th>\n",
       "    </tr>\n",
       "  </thead>\n",
       "  <tbody>\n",
       "    <tr>\n",
       "      <th>2022-06-30 00:49:00</th>\n",
       "      <td>slack</td>\n",
       "      <td>-</td>\n",
       "    </tr>\n",
       "    <tr>\n",
       "      <th>2022-06-30 03:31:00</th>\n",
       "      <td>ebb</td>\n",
       "      <td>-1.69</td>\n",
       "    </tr>\n",
       "    <tr>\n",
       "      <th>2022-06-30 07:01:00</th>\n",
       "      <td>slack</td>\n",
       "      <td>-</td>\n",
       "    </tr>\n",
       "    <tr>\n",
       "      <th>2022-06-30 10:09:00</th>\n",
       "      <td>flood</td>\n",
       "      <td>2.54</td>\n",
       "    </tr>\n",
       "    <tr>\n",
       "      <th>2022-06-30 13:31:00</th>\n",
       "      <td>slack</td>\n",
       "      <td>-</td>\n",
       "    </tr>\n",
       "    <tr>\n",
       "      <th>...</th>\n",
       "      <td>...</td>\n",
       "      <td>...</td>\n",
       "    </tr>\n",
       "    <tr>\n",
       "      <th>2022-09-21 09:07:00</th>\n",
       "      <td>slack</td>\n",
       "      <td>-</td>\n",
       "    </tr>\n",
       "    <tr>\n",
       "      <th>2022-09-21 11:55:00</th>\n",
       "      <td>ebb</td>\n",
       "      <td>-1.46</td>\n",
       "    </tr>\n",
       "    <tr>\n",
       "      <th>2022-09-21 15:19:00</th>\n",
       "      <td>slack</td>\n",
       "      <td>-</td>\n",
       "    </tr>\n",
       "    <tr>\n",
       "      <th>2022-09-21 18:21:00</th>\n",
       "      <td>flood</td>\n",
       "      <td>2.06</td>\n",
       "    </tr>\n",
       "    <tr>\n",
       "      <th>2022-09-21 21:19:00</th>\n",
       "      <td>slack</td>\n",
       "      <td>-</td>\n",
       "    </tr>\n",
       "  </tbody>\n",
       "</table>\n",
       "<p>649 rows × 2 columns</p>\n",
       "</div>"
      ],
      "text/plain": [
       "                      Event  Speed (knots)\n",
       "Date_Time (LST/LDT)                       \n",
       "2022-06-30 00:49:00   slack              -\n",
       "2022-06-30 03:31:00     ebb          -1.69\n",
       "2022-06-30 07:01:00   slack              -\n",
       "2022-06-30 10:09:00   flood           2.54\n",
       "2022-06-30 13:31:00   slack              -\n",
       "...                     ...            ...\n",
       "2022-09-21 09:07:00   slack              -\n",
       "2022-09-21 11:55:00     ebb          -1.46\n",
       "2022-09-21 15:19:00   slack              -\n",
       "2022-09-21 18:21:00   flood           2.06\n",
       "2022-09-21 21:19:00   slack              -\n",
       "\n",
       "[649 rows x 2 columns]"
      ]
     },
     "execution_count": 8,
     "metadata": {},
     "output_type": "execute_result"
    }
   ],
   "source": [
    "df =[]\n",
    "for f in csv_list:\n",
    "    print(f)\n",
    "    df_temp = pd.read_csv(f,header=0, parse_dates=[0], index_col=0 )\n",
    "    df.append(df_temp)\n",
    "\n",
    "dfall = pd.concat(df)\n",
    "dfall"
   ]
  }
 ],
 "metadata": {
  "kernelspec": {
   "display_name": "Python 3 (ipykernel)",
   "language": "python",
   "name": "python3"
  },
  "language_info": {
   "codemirror_mode": {
    "name": "ipython",
    "version": 3
   },
   "file_extension": ".py",
   "mimetype": "text/x-python",
   "name": "python",
   "nbconvert_exporter": "python",
   "pygments_lexer": "ipython3",
   "version": "3.9.13"
  }
 },
 "nbformat": 4,
 "nbformat_minor": 5
}
