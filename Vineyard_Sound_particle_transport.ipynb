{
 "cells": [
  {
   "cell_type": "code",
   "execution_count": 1,
   "id": "2eeda4cc",
   "metadata": {},
   "outputs": [],
   "source": [
    "import numpy as np\n",
    "import matplotlib.pyplot as plt"
   ]
  },
  {
   "cell_type": "code",
   "execution_count": 2,
   "id": "3926cf90",
   "metadata": {},
   "outputs": [],
   "source": [
    "def pcoord(x, y):\n",
    "    \"\"\"\n",
    "    Convert x, y to polar coordinates r, az (geographic convention)\n",
    "    r,az = pcoord(x, y)\n",
    "    \"\"\"\n",
    "    r = np.sqrt(x**2 + y**2)\n",
    "    az = np.degrees(np.arctan2(x, y))\n",
    "    # az[where(az<0.)[0]] += 360.\n",
    "    az = (az+360.)%360.\n",
    "    return r, az\n",
    "\n",
    "\n",
    "def xycoord(r, az):\n",
    "    \"\"\"\n",
    "    Convert r, az [degrees, geographic convention] to rectangular coordinates\n",
    "    x,y = xycoord(r, az)\n",
    "    \"\"\"\n",
    "    azr = np.deg2rad( az )\n",
    "    x = r * np.sin(azr)\n",
    "    y = r * np.cos(azr)\n",
    "    return x, y\n",
    "\n",
    "\n",
    "def dist_az_to_target(x,y,xt,yt):\n",
    "    dx = xt-x\n",
    "    dy = yt-y\n",
    "    r, az = pcoord(dx,dy)\n",
    "    return r, az\n",
    "\n",
    "knots2mps = 0.5144\n",
    "\n",
    "def course_to_steer(x, y, xt, yt, drift_speed, drift_az, time_interval):\n",
    "    # offset position according to drift\n",
    "    dx, dy = xycoord( drift_speed * time_interval, drift_az)\n",
    "    xp = x+dx\n",
    "    yp = y+dy\n",
    "    r, az = dist_az_to_target(xp, yp, xt, yt)\n",
    "    return az"
   ]
  },
  {
   "cell_type": "code",
   "execution_count": 3,
   "id": "4ecbd68e",
   "metadata": {},
   "outputs": [
    {
     "name": "stdout",
     "output_type": "stream",
     "text": [
      "Rhumb line distance: 5547 m, bearing 159.3\n",
      "Swim time for rhumb line: 1.54 h\n"
     ]
    }
   ],
   "source": [
    "xstart, ystart = 361825.00, 4597187.00 # point just south of Nobska lighthouse\n",
    "xend,   yend   = 363789.90, 4591999.15\n",
    "\n",
    "ss = 1. # m/s - swim speed\n",
    "\n",
    "tr, traz = dist_az_to_target(xstart,ystart,xend,yend)\n",
    "print( 'Rhumb line distance: {:.0f} m, bearing {:0.1f}'.format(tr, traz) )\n",
    "print( 'Swim time for rhumb line: {:.2f} h'.format(tr/ss/3600.) )"
   ]
  },
  {
   "cell_type": "markdown",
   "id": "7bc77c60",
   "metadata": {},
   "source": [
    "### Case 1: Steady currents"
   ]
  },
  {
   "cell_type": "code",
   "execution_count": 4,
   "id": "ceac893f",
   "metadata": {},
   "outputs": [],
   "source": [
    "dt = 60.\n",
    "t = np.arange(0., 6.2*3600.+dt, dt)\n",
    "# steady flow (ebb is negative)\n",
    "cs = -1. * np.ones_like(t) * knots2mps\n",
    "cdir = 57. * np.ones_like(t) # flood direction\n",
    "uc,vc = xycoord(cs, cdir)"
   ]
  },
  {
   "cell_type": "markdown",
   "id": "c9754e19",
   "metadata": {},
   "source": [
    "### Strategy 1: Aim for beach"
   ]
  },
  {
   "cell_type": "code",
   "execution_count": 20,
   "id": "b0114ee1",
   "metadata": {},
   "outputs": [
    {
     "name": "stdout",
     "output_type": "stream",
     "text": [
      "42 m from beach. Distance swam: 6660 m in 111 min.\n"
     ]
    },
    {
     "data": {
      "image/png": "[encoded data removed]",
      "text/plain": [
       "<Figure size 432x288 with 1 Axes>"
      ]
     },
     "metadata": {
      "needs_background": "light"
     },
     "output_type": "display_data"
    }
   ],
   "source": [
    "x = np.nan * np.ones_like(t)\n",
    "y = np.nan * np.ones_like(t)\n",
    "cumt = 0.0\n",
    "swim_dist = 0.0\n",
    "\n",
    "i = 0\n",
    "x[0], y[0] = xstart, ystart\n",
    "dist_to_beach, swim_az = dist_az_to_target( x[0], y[0], xend, yend )\n",
    "\n",
    "while ( np.abs( dist_to_beach ) > ss*dt) and (i < len(t)-1):\n",
    "    # print( dist_to_beach )\n",
    "    uswim, vswim = xycoord( ss, swim_az )\n",
    "    swim_dist += ss*dt\n",
    "    x[i+1] = x[i] + dt * ( 0.5 * (uc[i] + uc[i+1]) + uswim )\n",
    "    y[i+1] = y[i] + dt * ( 0.5 * (vc[i] + vc[i+1]) + vswim )\n",
    "    dist_to_beach, swim_az = dist_az_to_target( x[i+1], y[i+1], xend, yend )\n",
    "\n",
    "    cumt += dt\n",
    "    i +=1\n",
    "    \n",
    "print('{:.0f} m from beach. Distance swam: {:.0f} m in {:.0f} min.'.format(dist_to_beach, swim_dist, cumt/60.))                  \n",
    "\n",
    "plt.plot(x,y)\n",
    "plt.plot(xstart, ystart, 'og')\n",
    "plt.plot(xend, yend, 'or')\n",
    "_= plt.axis('equal')"
   ]
  },
  {
   "cell_type": "markdown",
   "id": "8998cf28",
   "metadata": {},
   "source": [
    "### Stategy 2: Aim to offset drift"
   ]
  },
  {
   "cell_type": "code",
   "execution_count": 22,
   "id": "263a1cec",
   "metadata": {},
   "outputs": [
    {
     "name": "stdout",
     "output_type": "stream",
     "text": [
      "Initial azimuth: 159.25580021480891\n",
      "124.47450786654804\n"
     ]
    }
   ],
   "source": [
    "x = np.nan * np.ones_like(t)\n",
    "y = np.nan * np.ones_like(t)\n",
    "cumt = 0.0\n",
    "swim_dist = 0.0\n",
    "\n",
    "\n",
    "x[0], y[0] = xstart, ystart\n",
    "dist_to_beach, swim_az = dist_az_to_target( x[0], y[0], xend, yend )\n",
    "print('Initial azimuth:', swim_az)\n",
    "\n",
    "# the appropriate course to steer depends on the net drift over the entire transit\n",
    "ucbar = np.mean(uc)\n",
    "vcbar = np.mean(vc)\n",
    "spd_bar, cdir_bar = pcoord( ucbar, vcbar )\n",
    "swim_az = course_to_steer( xstart, ystart, xend, yend, spd_bar, cdir_bar, 111*60 )\n",
    "print(swim_az)"
   ]
  },
  {
   "cell_type": "code",
   "execution_count": 23,
   "id": "a8da32e5",
   "metadata": {},
   "outputs": [
    {
     "name": "stdout",
     "output_type": "stream",
     "text": [
      "5547 m from beach. Distance swam: 22320 m in 372 min.\n"
     ]
    },
    {
     "data": {
      "image/png": "[encoded data removed]",
      "text/plain": [
       "<Figure size 432x288 with 1 Axes>"
      ]
     },
     "metadata": {
      "needs_background": "light"
     },
     "output_type": "display_data"
    }
   ],
   "source": [
    "i = 0\n",
    "while ( np.abs( dist_to_beach ) > ss*dt) and (i < len(t)-1):\n",
    "\n",
    "    uswim, vswim = xycoord( ss, swim_az )\n",
    "    swim_dist += ss*dt\n",
    "    x[i+1] = x[i] + dt * ( 0.5 * (uc[i] + uc[i+1]) + uswim )\n",
    "    y[i+1] = y[i] + dt * ( 0.5 * (vc[i] + vc[i+1]) + vswim )\n",
    "    cumt += dt\n",
    "    i +=1\n",
    "    \n",
    "print('{:.0f} m from beach. Distance swam: {:.0f} m in {:.0f} min.'.format(dist_to_beach, swim_dist, cumt/60.))\n",
    "plt.plot(x,y)\n",
    "plt.plot(xstart, ystart, 'og')\n",
    "plt.plot(xend, yend, 'or')\n",
    "_= plt.axis('equal')"
   ]
  },
  {
   "cell_type": "code",
   "execution_count": 12,
   "id": "0df40527",
   "metadata": {},
   "outputs": [
    {
     "data": {
      "text/plain": [
       "array([158.9439291, 158.9439291, 158.9439291, 158.9439291, 158.9439291,\n",
       "       158.9439291, 158.9439291, 158.9439291, 158.9439291, 158.9439291,\n",
       "       158.9439291, 158.9439291, 158.9439291, 158.9439291, 158.9439291,\n",
       "       158.9439291, 158.9439291, 158.9439291, 158.9439291, 158.9439291,\n",
       "       158.9439291, 158.9439291, 158.9439291, 158.9439291, 158.9439291,\n",
       "       158.9439291, 158.9439291, 158.9439291, 158.9439291, 158.9439291,\n",
       "       158.9439291, 158.9439291, 158.9439291, 158.9439291, 158.9439291,\n",
       "       158.9439291, 158.9439291, 158.9439291, 158.9439291, 158.9439291,\n",
       "       158.9439291, 158.9439291, 158.9439291, 158.9439291, 158.9439291,\n",
       "       158.9439291, 158.9439291, 158.9439291, 158.9439291, 158.9439291,\n",
       "       158.9439291, 158.9439291, 158.9439291, 158.9439291, 158.9439291,\n",
       "       158.9439291, 158.9439291, 158.9439291, 158.9439291, 158.9439291,\n",
       "       158.9439291, 158.9439291, 158.9439291, 158.9439291, 158.9439291,\n",
       "       158.9439291, 158.9439291, 158.9439291, 158.9439291, 158.9439291,\n",
       "       158.9439291, 158.9439291, 158.9439291, 158.9439291, 158.9439291,\n",
       "       158.9439291, 158.9439291, 158.9439291, 158.9439291, 158.9439291,\n",
       "       158.9439291, 158.9439291, 158.9439291, 158.9439291, 158.9439291,\n",
       "       158.9439291, 158.9439291, 158.9439291, 158.9439291, 158.9439291,\n",
       "       158.9439291, 158.9439291, 158.9439291, 158.9439291, 158.9439291,\n",
       "       158.9439291, 158.9439291, 158.9439291, 158.9439291, 158.9439291,\n",
       "       158.9439291, 158.9439291, 158.9439291, 158.9439291, 158.9439291,\n",
       "       158.9439291, 158.9439291, 158.9439291, 158.9439291, 158.9439291,\n",
       "       158.9439291, 158.9439291, 158.9439291, 158.9439291, 158.9439291,\n",
       "       158.9439291, 158.9439291, 158.9439291, 158.9439291, 158.9439291,\n",
       "       158.9439291, 158.9439291, 158.9439291, 158.9439291, 158.9439291,\n",
       "       158.9439291, 158.9439291, 158.9439291, 158.9439291, 158.9439291,\n",
       "       158.9439291, 158.9439291, 158.9439291, 158.9439291, 158.9439291,\n",
       "       158.9439291, 158.9439291, 158.9439291, 158.9439291, 158.9439291,\n",
       "       158.9439291, 158.9439291, 158.9439291, 158.9439291, 158.9439291,\n",
       "       158.9439291, 158.9439291, 158.9439291, 158.9439291, 158.9439291,\n",
       "       158.9439291, 158.9439291, 158.9439291, 158.9439291, 158.9439291,\n",
       "       158.9439291, 158.9439291, 158.9439291, 158.9439291, 158.9439291,\n",
       "       158.9439291, 158.9439291, 158.9439291, 158.9439291, 158.9439291,\n",
       "       158.9439291, 158.9439291, 158.9439291, 158.9439291, 158.9439291,\n",
       "       158.9439291, 158.9439291, 158.9439291, 158.9439291, 158.9439291,\n",
       "       158.9439291, 158.9439291, 158.9439291, 158.9439291, 158.9439291,\n",
       "       158.9439291, 158.9439291, 158.9439291, 158.9439291, 158.9439291,\n",
       "       158.9439291, 158.9439291, 158.9439291, 158.9439291, 158.9439291,\n",
       "       158.9439291, 158.9439291, 158.9439291, 158.9439291, 158.9439291,\n",
       "       158.9439291, 158.9439291, 158.9439291, 158.9439291, 158.9439291,\n",
       "       158.9439291, 158.9439291, 158.9439291, 158.9439291, 158.9439291,\n",
       "       158.9439291, 158.9439291, 158.9439291, 158.9439291, 158.9439291,\n",
       "       158.9439291, 158.9439291, 158.9439291, 158.9439291, 158.9439291,\n",
       "       158.9439291, 158.9439291, 158.9439291, 158.9439291, 158.9439291,\n",
       "       158.9439291, 158.9439291, 158.9439291, 158.9439291, 158.9439291,\n",
       "       158.9439291, 158.9439291, 158.9439291, 158.9439291, 158.9439291,\n",
       "       158.9439291, 158.9439291, 158.9439291, 158.9439291, 158.9439291,\n",
       "       158.9439291, 158.9439291, 158.9439291, 158.9439291, 158.9439291,\n",
       "       158.9439291, 158.9439291, 158.9439291, 158.9439291, 158.9439291,\n",
       "       158.9439291, 158.9439291, 158.9439291, 158.9439291, 158.9439291,\n",
       "       158.9439291, 158.9439291, 158.9439291, 158.9439291, 158.9439291,\n",
       "       158.9439291, 158.9439291, 158.9439291, 158.9439291, 158.9439291,\n",
       "       158.9439291, 158.9439291, 158.9439291, 158.9439291, 158.9439291,\n",
       "       158.9439291, 158.9439291, 158.9439291, 158.9439291, 158.9439291,\n",
       "       158.9439291, 158.9439291, 158.9439291, 158.9439291, 158.9439291,\n",
       "       158.9439291, 158.9439291, 158.9439291, 158.9439291, 158.9439291,\n",
       "       158.9439291, 158.9439291, 158.9439291, 158.9439291, 158.9439291,\n",
       "       158.9439291, 158.9439291, 158.9439291, 158.9439291, 158.9439291,\n",
       "       158.9439291, 158.9439291, 158.9439291, 158.9439291, 158.9439291,\n",
       "       158.9439291, 158.9439291, 158.9439291, 158.9439291, 158.9439291,\n",
       "       158.9439291, 158.9439291, 158.9439291, 158.9439291, 158.9439291,\n",
       "       158.9439291, 158.9439291, 158.9439291, 158.9439291, 158.9439291,\n",
       "       158.9439291, 158.9439291, 158.9439291, 158.9439291, 158.9439291,\n",
       "       158.9439291, 158.9439291, 158.9439291, 158.9439291, 158.9439291,\n",
       "       158.9439291, 158.9439291, 158.9439291, 158.9439291, 158.9439291,\n",
       "       158.9439291, 158.9439291, 158.9439291, 158.9439291, 158.9439291,\n",
       "       158.9439291, 158.9439291, 158.9439291, 158.9439291, 158.9439291,\n",
       "       158.9439291, 158.9439291, 158.9439291, 158.9439291, 158.9439291,\n",
       "       158.9439291, 158.9439291, 158.9439291, 158.9439291, 158.9439291,\n",
       "       158.9439291, 158.9439291, 158.9439291, 158.9439291, 158.9439291,\n",
       "       158.9439291, 158.9439291, 158.9439291, 158.9439291, 158.9439291,\n",
       "       158.9439291, 158.9439291, 158.9439291, 158.9439291, 158.9439291,\n",
       "       158.9439291, 158.9439291, 158.9439291, 158.9439291, 158.9439291,\n",
       "       158.9439291, 158.9439291, 158.9439291, 158.9439291, 158.9439291,\n",
       "       158.9439291, 158.9439291, 158.9439291])"
      ]
     },
     "execution_count": 12,
     "metadata": {},
     "output_type": "execute_result"
    }
   ],
   "source": [
    "swim_az"
   ]
  },
  {
   "cell_type": "markdown",
   "id": "29f0932e",
   "metadata": {},
   "source": [
    "### Strategy 3: Constant swim azimuth"
   ]
  },
  {
   "cell_type": "code",
   "execution_count": null,
   "id": "1cdbfe5c",
   "metadata": {},
   "outputs": [],
   "source": [
    "x = np.nan * np.ones_like(t)\n",
    "y = np.nan * np.ones_like(t)\n",
    "cumt = 0.0\n",
    "swim_dist = 0.0\n",
    "\n",
    "i = 0\n",
    "x[0], y[0] = xstart, ystart\n",
    "xp  = x[0] + np.sum( 110. *60. * 0.5 * uc )\n",
    "xp  = y[0] + np.sum( 110. *60. * 0.5 * vc )\n",
    "\n",
    "dist_to_beach, swim_az = dist_az_to_target( xp, yp, xend, yend )\n",
    "print(swim_az)\n",
    "while ( np.abs( dist_to_beach ) > ss*dt) and (i < len(t)-1):\n",
    "\n",
    "    if(i==10):\n",
    "        print(swim_az)\n",
    "    uswim, vswim = xycoord( ss, swim_az )\n",
    "    swim_dist += ss*dt\n",
    "    x[i+1] = x[i] + dt * ( 0.5 * (uc[i] + uc[i+1]) + uswim )\n",
    "    y[i+1] = y[i] + dt * ( 0.5 * (vc[i] + vc[i+1]) + vswim )\n",
    "    dist_to_beach, _ = dist_az_to_target( x[i+1], y[i+1], xend, yend )\n",
    "\n",
    "    cumt += dt\n",
    "    i +=1\n",
    "    \n",
    "print('{:.0f} m from beach. Distance swam: {:.0f} m in {:.0f} min.'.format(dist_to_beach, swim_dist, cumt/60.))\n",
    "plt.plot(x,y)\n",
    "_= plt.axis('equal')"
   ]
  }
 ],
 "metadata": {
  "kernelspec": {
   "display_name": "Python 3 (ipykernel)",
   "language": "python",
   "name": "python3"
  },
  "language_info": {
   "codemirror_mode": {
    "name": "ipython",
    "version": 3
   },
   "file_extension": ".py",
   "mimetype": "text/x-python",
   "name": "python",
   "nbconvert_exporter": "python",
   "pygments_lexer": "ipython3",
   "version": "3.9.13"
  }
 },
 "nbformat": 4,
 "nbformat_minor": 5
}
